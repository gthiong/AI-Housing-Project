{
 "cells": [
  {
   "cell_type": "code",
   "execution_count": 8,
   "metadata": {},
   "outputs": [
    {
     "name": "stdout",
     "output_type": "stream",
     "text": [
      "Deploying AppInsights with name myaiworkinsightsa2d98867.\n",
      "Deployed AppInsights with name myaiworkinsightsa2d98867. Took 3.93 seconds.\n",
      "Deploying KeyVault with name myaiworkkeyvaulte5f2a11d.\n",
      "Deploying StorageAccount with name myaiworkstorage40d95279d.\n",
      "Deployed KeyVault with name myaiworkkeyvaulte5f2a11d. Took 18.98 seconds.\n",
      "Deploying Workspace with name MyAi-workspace-2.\n",
      "Deployed StorageAccount with name myaiworkstorage40d95279d. Took 22.97 seconds.\n",
      "Deployed Workspace with name MyAi-workspace-2. Took 89.49 seconds.\n"
     ]
    }
   ],
   "source": [
    "#import worskpace constructor and create a workspace\n",
    "\n",
    "from azureml.core import Workspace\n",
    "MyAi_ws = Workspace.create(name='MyAi-workspace-2',\n",
    "                            subscription_id='1537d535-cd95-4c53-b4f6-ecead05b5e90',\n",
    "                            resource_group='AIDemos',\n",
    "                            create_resource_group=False,\n",
    "                            location='canadacentral')"
   ]
  },
  {
   "cell_type": "code",
   "execution_count": 10,
   "metadata": {},
   "outputs": [],
   "source": [
    "#create a workspace config file to reference your workspace without needing to specify the identifying variables\n",
    "MyAi_ws.write_config(path=\"./\", file_name=\"ws_config.json\")"
   ]
  },
  {
   "cell_type": "code",
   "execution_count": 25,
   "metadata": {},
   "outputs": [
    {
     "name": "stdout",
     "output_type": "stream",
     "text": [
      "{\"Id\": null, \"Scope\": \"/subscriptions/1537d535-cd95-4c53-b4f6-ecead05b5e90/resourceGroups/AIDemos/providers/Microsoft.MachineLearningServices/workspaces/MyAi-workspace-2\"}"
     ]
    }
   ],
   "source": [
    "!cat .azureml/ws_config.json"
   ]
  },
  {
   "cell_type": "code",
   "execution_count": 1,
   "metadata": {},
   "outputs": [
    {
     "name": "stdout",
     "output_type": "stream",
     "text": [
      "boston_housing_lr.ipynb           my_sklearn_lr.py\n",
      "config.json                       python_cv_api_sanitized.ipynb\n",
      "create-workspace-sanitized.ipynb  python variables.ipynb\n",
      "face api.ipynb                    README.md\n",
      "identifying_mnist_digits.ipynb    sentiment-sanitized.ipynb\n",
      "model_training_sanitized.ipynb\n"
     ]
    }
   ],
   "source": [
    "ls"
   ]
  },
  {
   "cell_type": "code",
   "execution_count": null,
   "metadata": {},
   "outputs": [],
   "source": []
  }
 ],
 "metadata": {
  "kernelspec": {
   "display_name": "Python 3",
   "language": "python",
   "name": "python3"
  },
  "language_info": {
   "codemirror_mode": {
    "name": "ipython",
    "version": 3
   },
   "file_extension": ".py",
   "mimetype": "text/x-python",
   "name": "python",
   "nbconvert_exporter": "python",
   "pygments_lexer": "ipython3",
   "version": "3.7.6"
  }
 },
 "nbformat": 4,
 "nbformat_minor": 4
}
